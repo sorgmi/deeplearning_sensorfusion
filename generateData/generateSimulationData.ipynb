{
 "cells": [
  {
   "cell_type": "code",
   "execution_count": 1,
   "metadata": {},
   "outputs": [],
   "source": [
    "import os\n",
    "import math\n",
    "from gnss_ins_sim.sim import imu_model\n",
    "from gnss_ins_sim.sim import ins_sim\n",
    "import matplotlib.pyplot as plt\n",
    "import pandas as pd"
   ]
  },
  {
   "cell_type": "code",
   "execution_count": 2,
   "metadata": {},
   "outputs": [],
   "source": [
    "motdef_file = \"motion_def_files/\" + \"motion_def-long_drive.csv\"\n",
    "result_path = \"../data/simulation/longdrive\"\n",
    "number_of_runs = 10"
   ]
  },
  {
   "cell_type": "code",
   "execution_count": 3,
   "metadata": {},
   "outputs": [
    {
     "name": "stdout",
     "output_type": "stream",
     "text": [
      "\n",
      "------------------------------------------------------------\n",
      "Sample frequency of IMU: [fs] = 100.0 Hz\n",
      "Reference frame: 0\n",
      "Simulation time duration: 965.52 s\n",
      "Simulation runs: 10\n",
      "\n",
      "------------------------------------------------------------\n",
      "Simulation results are saved to C:\\Users\\MICSORG\\Desktop\\re\\data\\simulation\\longdrive\n",
      "The following results are saved:\n",
      "\ttime: sample time\n",
      "\tref_pos: true LLA pos in the navigation frame\n",
      "\tref_vel: true vel in the NED frame\n",
      "\tref_att_euler: true attitude (Euler angles, ZYX)\n",
      "\tref_accel: true accel in the body frame\n",
      "\tref_gyro: true angular velocity in the body frame\n",
      "\tgps_time: GPS sample time\n",
      "\tref_gps: true GPS LLA position and NED velocity\n",
      "\tgps_visibility: GPS visibility\n",
      "\taccel: accel measurements\n",
      "\tgyro: gyro measurements\n",
      "\tgps: GPS LLA position and NED velocity measurements\n",
      "\tref_att_quat: true attitude (quaternion)\n",
      "\n"
     ]
    }
   ],
   "source": [
    "fs = 100.0          # IMU sample frequency\n",
    "fs_gps = fs         # GPS sample frequency\n",
    "fs_mag = fs         # magnetometer sample frequency, not used for now\n",
    "\n",
    "def path_gen():\n",
    "    imu_err = 'mid-accuracy'\n",
    "    imu = imu_model.IMU(accuracy=imu_err, axis=6, gps=True)\n",
    "\n",
    "    sim = ins_sim.Sim([fs, fs_gps, fs_mag], motdef_file, ref_frame=0, imu=imu)\n",
    "    sim.run(number_of_runs)\n",
    "    sim.results(result_path) # input_file[:-3]\n",
    "    #sim.plot(['ref_pos'], opt={'ref_pos': '3d'})\n",
    "    \n",
    "    '''\n",
    "    # now again with ecef frame\n",
    "    sim = ins_sim.Sim([fs, fs_gps, fs_mag], input_file + \".csv\",\n",
    "                      ref_frame=1,\n",
    "                      imu=imu,\n",
    "                      mode=None,\n",
    "                      env=None,\n",
    "                      algorithm=None)\n",
    "    sim.run(1)\n",
    "    sim.results(input_file[:-3]+\"2\")\n",
    "    '''\n",
    "    \n",
    "path_gen()"
   ]
  },
  {
   "cell_type": "code",
   "execution_count": 4,
   "metadata": {},
   "outputs": [
    {
     "data": {
      "text/html": [
       "<div>\n",
       "<style scoped>\n",
       "    .dataframe tbody tr th:only-of-type {\n",
       "        vertical-align: middle;\n",
       "    }\n",
       "\n",
       "    .dataframe tbody tr th {\n",
       "        vertical-align: top;\n",
       "    }\n",
       "\n",
       "    .dataframe thead th {\n",
       "        text-align: right;\n",
       "    }\n",
       "</style>\n",
       "<table border=\"1\" class=\"dataframe\">\n",
       "  <thead>\n",
       "    <tr style=\"text-align: right;\">\n",
       "      <th></th>\n",
       "      <th>time (sec)</th>\n",
       "    </tr>\n",
       "  </thead>\n",
       "  <tbody>\n",
       "    <tr>\n",
       "      <th>0</th>\n",
       "      <td>0.00</td>\n",
       "    </tr>\n",
       "    <tr>\n",
       "      <th>1</th>\n",
       "      <td>0.01</td>\n",
       "    </tr>\n",
       "    <tr>\n",
       "      <th>2</th>\n",
       "      <td>0.02</td>\n",
       "    </tr>\n",
       "    <tr>\n",
       "      <th>3</th>\n",
       "      <td>0.03</td>\n",
       "    </tr>\n",
       "    <tr>\n",
       "      <th>4</th>\n",
       "      <td>0.04</td>\n",
       "    </tr>\n",
       "  </tbody>\n",
       "</table>\n",
       "</div>"
      ],
      "text/plain": [
       "   time (sec)\n",
       "0        0.00\n",
       "1        0.01\n",
       "2        0.02\n",
       "3        0.03\n",
       "4        0.04"
      ]
     },
     "execution_count": 4,
     "metadata": {},
     "output_type": "execute_result"
    }
   ],
   "source": [
    "t = pd.read_csv(result_path + \"/time.csv\")\n",
    "t.head()"
   ]
  },
  {
   "cell_type": "code",
   "execution_count": 5,
   "metadata": {},
   "outputs": [
    {
     "data": {
      "text/html": [
       "<div>\n",
       "<style scoped>\n",
       "    .dataframe tbody tr th:only-of-type {\n",
       "        vertical-align: middle;\n",
       "    }\n",
       "\n",
       "    .dataframe tbody tr th {\n",
       "        vertical-align: top;\n",
       "    }\n",
       "\n",
       "    .dataframe thead th {\n",
       "        text-align: right;\n",
       "    }\n",
       "</style>\n",
       "<table border=\"1\" class=\"dataframe\">\n",
       "  <thead>\n",
       "    <tr style=\"text-align: right;\">\n",
       "      <th></th>\n",
       "      <th>ref_gps_lat (deg)</th>\n",
       "      <th>ref_gps_lon (deg)</th>\n",
       "      <th>ref_gps_alt (m)</th>\n",
       "      <th>ref_gps_vN (m/s)</th>\n",
       "      <th>ref_gps_vE (m/s)</th>\n",
       "      <th>ref_gps_vD (m/s)</th>\n",
       "    </tr>\n",
       "  </thead>\n",
       "  <tbody>\n",
       "    <tr>\n",
       "      <th>0</th>\n",
       "      <td>31.508183</td>\n",
       "      <td>120.401989</td>\n",
       "      <td>0.0</td>\n",
       "      <td>0.0</td>\n",
       "      <td>0.0</td>\n",
       "      <td>0.0</td>\n",
       "    </tr>\n",
       "    <tr>\n",
       "      <th>1</th>\n",
       "      <td>31.508183</td>\n",
       "      <td>120.401989</td>\n",
       "      <td>0.0</td>\n",
       "      <td>0.0</td>\n",
       "      <td>0.0</td>\n",
       "      <td>0.0</td>\n",
       "    </tr>\n",
       "    <tr>\n",
       "      <th>2</th>\n",
       "      <td>31.508183</td>\n",
       "      <td>120.401989</td>\n",
       "      <td>0.0</td>\n",
       "      <td>0.0</td>\n",
       "      <td>0.0</td>\n",
       "      <td>0.0</td>\n",
       "    </tr>\n",
       "    <tr>\n",
       "      <th>3</th>\n",
       "      <td>31.508183</td>\n",
       "      <td>120.401989</td>\n",
       "      <td>0.0</td>\n",
       "      <td>0.0</td>\n",
       "      <td>0.0</td>\n",
       "      <td>0.0</td>\n",
       "    </tr>\n",
       "    <tr>\n",
       "      <th>4</th>\n",
       "      <td>31.508183</td>\n",
       "      <td>120.401989</td>\n",
       "      <td>0.0</td>\n",
       "      <td>0.0</td>\n",
       "      <td>0.0</td>\n",
       "      <td>0.0</td>\n",
       "    </tr>\n",
       "  </tbody>\n",
       "</table>\n",
       "</div>"
      ],
      "text/plain": [
       "   ref_gps_lat (deg)  ref_gps_lon (deg)  ref_gps_alt (m)  ref_gps_vN (m/s)  \\\n",
       "0          31.508183         120.401989              0.0               0.0   \n",
       "1          31.508183         120.401989              0.0               0.0   \n",
       "2          31.508183         120.401989              0.0               0.0   \n",
       "3          31.508183         120.401989              0.0               0.0   \n",
       "4          31.508183         120.401989              0.0               0.0   \n",
       "\n",
       "   ref_gps_vE (m/s)  ref_gps_vD (m/s)  \n",
       "0               0.0               0.0  \n",
       "1               0.0               0.0  \n",
       "2               0.0               0.0  \n",
       "3               0.0               0.0  \n",
       "4               0.0               0.0  "
      ]
     },
     "execution_count": 5,
     "metadata": {},
     "output_type": "execute_result"
    }
   ],
   "source": [
    "gt = pd.read_csv(result_path + \"/ref_gps.csv\")\n",
    "gt.head()"
   ]
  },
  {
   "cell_type": "code",
   "execution_count": 6,
   "metadata": {},
   "outputs": [
    {
     "data": {
      "image/png": "[encoded data removed]",
      "text/plain": [
       "<Figure size 432x288 with 1 Axes>"
      ]
     },
     "metadata": {
      "needs_background": "light"
     },
     "output_type": "display_data"
    }
   ],
   "source": [
    "plt.scatter(gt.values[:,1], gt.values[:,0])\n",
    "plt.show()"
   ]
  },
  {
   "cell_type": "code",
   "execution_count": null,
   "metadata": {},
   "outputs": [],
   "source": []
  }
 ],
 "metadata": {
  "kernelspec": {
   "display_name": "Python 3",
   "language": "python",
   "name": "python3"
  },
  "language_info": {
   "codemirror_mode": {
    "name": "ipython",
    "version": 3
   },
   "file_extension": ".py",
   "mimetype": "text/x-python",
   "name": "python",
   "nbconvert_exporter": "python",
   "pygments_lexer": "ipython3",
   "version": "3.7.3"
  }
 },
 "nbformat": 4,
 "nbformat_minor": 2
}
