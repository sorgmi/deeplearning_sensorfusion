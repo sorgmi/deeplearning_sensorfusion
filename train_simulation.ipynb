{
 "cells": [
  {
   "cell_type": "markdown",
   "metadata": {},
   "source": [
    "tested with tensorflow version 2.0"
   ]
  },
  {
   "cell_type": "code",
   "execution_count": 1,
   "metadata": {},
   "outputs": [],
   "source": [
    "import pandas as pd\n",
    "import numpy as np\n",
    "from sklearn import preprocessing\n",
    "import tensorflow as tf\n",
    "from geopy import distance\n",
    "import matplotlib.pyplot as plt\n",
    "import random, math, datetime, os\n",
    "from sklearn.metrics import mean_squared_error, mean_absolute_error\n",
    "from sklearn.model_selection import train_test_split\n",
    "import glob\n",
    "from tensorflow.keras import regularizers\n",
    "from scipy import interpolate"
   ]
  },
  {
   "cell_type": "code",
   "execution_count": 2,
   "metadata": {},
   "outputs": [],
   "source": [
    "input_file = \"data/simulation/longdrive/\"\n",
    "\n",
    "params = {}\n",
    "params[\"outputs\"] = 6\n",
    "params[\"splitIndex\"] = 0.8"
   ]
  },
  {
   "cell_type": "markdown",
   "metadata": {},
   "source": [
    "# begin linear interpolation"
   ]
  },
  {
   "cell_type": "code",
   "execution_count": 3,
   "metadata": {},
   "outputs": [
    {
     "name": "stdout",
     "output_type": "stream",
     "text": [
      "(965520, 9) (965520, 6)\n"
     ]
    }
   ],
   "source": [
    "data = []\n",
    "target = []\n",
    "\n",
    "for i in range(0,10):\n",
    "    ind = str(i) \n",
    "    f = input_file\n",
    "    \n",
    "    gps = pd.read_csv(f + \"gps-\" + ind + \".csv\")\n",
    "    gps.drop(columns=[\"gps_vN (m/s)\",\"gps_vE (m/s)\", \"gps_vD (m/s)\"], inplace=True)\n",
    "    acc = pd.read_csv(f + \"accel-\" + ind + \".csv\")\n",
    "    gyro = pd.read_csv(f + \"gyro-\" + ind + \".csv\")\n",
    "    result = pd.concat([gps, acc, gyro], axis=1)\n",
    "    result.columns = [\"gps1\", \"gps2\", \"gps3\", \"acc1\", \"acc2\", \"acc3\", \"gyro1\", \"gyro2\", \"gyro3\"]\n",
    "    \n",
    "    pos = pd.read_csv(input_file + \"ref_pos.csv\")\n",
    "    ori = pd.read_csv(input_file + \"ref_att_euler.csv\")\n",
    "    poses = pd.concat([ori, pos], axis=1)\n",
    "    poses.columns = [\"yaw\", \"pitch\", \"roll\", \"lat\", \"lon\", \"alt\"]\n",
    "    \n",
    "    data.append(result.values)\n",
    "    target.append(poses.values)\n",
    "    \n",
    "    \n",
    "data = np.vstack(data)\n",
    "target = np.vstack(target)   \n",
    "print(data.shape, target.shape)"
   ]
  },
  {
   "cell_type": "code",
   "execution_count": 4,
   "metadata": {},
   "outputs": [],
   "source": [
    "params[\"input_features\"] = data.shape[1]\n",
    "\n",
    "params[\"scalerx\"] = preprocessing.StandardScaler()\n",
    "params[\"scalery\"] = preprocessing.StandardScaler()\n",
    "        \n",
    "matrix = params[\"scalerx\"].fit_transform(data)\n",
    "poses = params[\"scalery\"].fit_transform(target)"
   ]
  },
  {
   "cell_type": "code",
   "execution_count": 5,
   "metadata": {},
   "outputs": [],
   "source": [
    "def generateSequences(data, matrix, seq_len):\n",
    "    print(poses.shape)\n",
    "    rows = poses.shape[0] - seq_len\n",
    "\n",
    "    x = [matrix[index-seq_len:index, :] for index in range(seq_len, poses.shape[0])]\n",
    "    x = np.array(x)\n",
    "    y = poses[seq_len:, :]\n",
    "    return x,y"
   ]
  },
  {
   "cell_type": "code",
   "execution_count": 6,
   "metadata": {},
   "outputs": [
    {
     "name": "stdout",
     "output_type": "stream",
     "text": [
      "(965520, 6)\n",
      "(965020, 500, 9) (965020, 6)\n"
     ]
    }
   ],
   "source": [
    "params[\"seq_len\"] = 500\n",
    "x,y = generateSequences(data, matrix, params[\"seq_len\"])\n",
    "print(x.shape, y.shape)"
   ]
  },
  {
   "cell_type": "code",
   "execution_count": 7,
   "metadata": {},
   "outputs": [
    {
     "data": {
      "image/png": "[encoded data removed]",
      "text/plain": [
       "<Figure size 432x288 with 1 Axes>"
      ]
     },
     "metadata": {
      "needs_background": "light"
     },
     "output_type": "display_data"
    }
   ],
   "source": [
    "plt.scatter(y[:,4], y[:,3])\n",
    "plt.show()"
   ]
  },
  {
   "cell_type": "markdown",
   "metadata": {},
   "source": [
    "# train"
   ]
  },
  {
   "cell_type": "code",
   "execution_count": 8,
   "metadata": {},
   "outputs": [
    {
     "name": "stdout",
     "output_type": "stream",
     "text": [
      "(772016, 500, 9) (772016, 6) (193004, 500, 9) (193004, 6)\n"
     ]
    }
   ],
   "source": [
    "split = int(x.shape[0] * params[\"splitIndex\"])\n",
    "train_x = x[:split]\n",
    "train_y = y[:split]\n",
    "\n",
    "test_x = x[split:]\n",
    "test_y = y[split:]\n",
    "\n",
    "print(train_x.shape, train_y.shape, test_x.shape, test_y.shape)"
   ]
  },
  {
   "cell_type": "code",
   "execution_count": 10,
   "metadata": {},
   "outputs": [],
   "source": [
    "def getDistance(preds, gt):\n",
    "    return distance.distance(preds, gt).m\n",
    "\n",
    "class Metrics(tf.keras.callbacks.Callback):\n",
    "    \n",
    "    def __init__(self, model, p, output=True):\n",
    "        self.model = model\n",
    "        self.p = p\n",
    "        self.hist = []\n",
    "        self.output = output\n",
    "\n",
    "    def on_epoch_end(self, o, oo):\n",
    "        inp = test_x\n",
    "        targ = test_y\n",
    "        pred = self.model.predict(inp)\n",
    "\n",
    "        inv_pred = self.p[\"scalery\"].inverse_transform(pred)\n",
    "        inv_gt = self.p[\"scalery\"].inverse_transform(targ)\n",
    "\n",
    "        dists = []\n",
    "        for i in range(inv_pred.shape[0]):\n",
    "            d = getDistance(inv_pred[i,3:5], inv_gt[i, 3:5])\n",
    "            dists.append(d)\n",
    "        tmp = np.mean(dists)\n",
    "\n",
    "        if self.output is True:\n",
    "            \n",
    "            if self.p[\"outputs\"] == 6:\n",
    "                pitch = mean_absolute_error(inv_pred[:,0], inv_gt[:, 0])\n",
    "                roll = mean_absolute_error(inv_pred[:,1], inv_gt[:, 1])\n",
    "                heading = mean_absolute_error(inv_pred[:,2], inv_gt[:, 2])\n",
    "                self.hist.append( (tmp, pitch, roll, heading) )\n",
    "                print(\" -mae distance:\", tmp, \"pitch:\", pitch, \"roll:\", roll, \"yaw:\", heading) \n",
    "            else:\n",
    "                print(\" -mea distance:\", tmp)\n",
    "                self.hist.append(tmp)"
   ]
  },
  {
   "cell_type": "code",
   "execution_count": 11,
   "metadata": {},
   "outputs": [],
   "source": [
    "def plotti(train_data=False):\n",
    "    inp = test_x\n",
    "    targ = test_y\n",
    "    \n",
    "    if train_data is True:\n",
    "        print(\"Using train data!\")\n",
    "        inp = train_x\n",
    "        targ = train_y \n",
    "    \n",
    "    pred = model.predict(inp)\n",
    "\n",
    "    plt.scatter(pred[:,4], pred[:,3], label=\"pred\")\n",
    "    plt.scatter(targ[:,4], targ[:,3], label=\"gt\")\n",
    "    plt.title(\"test data\")\n",
    "    plt.legend()\n",
    "    plt.show()\n",
    "\n",
    "    inv_pred = params[\"scalery\"].inverse_transform(pred)\n",
    "    inv_gt = params[\"scalery\"].inverse_transform(targ)\n",
    "\n",
    "    dists = []\n",
    "    for i in range(inv_pred.shape[0]):\n",
    "        d = getDistance(inv_pred[i,3:5], inv_gt[i, 3:5])\n",
    "        dists.append(d)\n",
    "    print(\"mean distance:\", np.mean(dists))\n",
    "\n",
    "    plt.scatter(inv_pred[:,4], inv_pred[:,3], label=\"pred\")\n",
    "    plt.scatter(inv_gt[:,4], inv_gt[:,3], label=\"gt\")\n",
    "    plt.title(\"test data\")\n",
    "    plt.legend()\n",
    "    plt.show()"
   ]
  },
  {
   "cell_type": "markdown",
   "metadata": {},
   "source": [
    "### stateless"
   ]
  },
  {
   "cell_type": "code",
   "execution_count": 12,
   "metadata": {},
   "outputs": [
    {
     "name": "stdout",
     "output_type": "stream",
     "text": [
      "Model: \"sequential\"\n",
      "_________________________________________________________________\n",
      "Layer (type)                 Output Shape              Param #   \n",
      "=================================================================\n",
      "gru (GRU)                    (256, 256)                205056    \n",
      "_________________________________________________________________\n",
      "dense (Dense)                (256, 6)                  1542      \n",
      "=================================================================\n",
      "Total params: 206,598\n",
      "Trainable params: 206,598\n",
      "Non-trainable params: 0\n",
      "_________________________________________________________________\n",
      "Train on 772016 samples, validate on 193004 samples\n",
      "Epoch 1/5\n",
      "771840/772016 [============================>.] - ETA: 0s - loss: 0.0472 -mae distance: 5.150775800176044 pitch: 4.044089488644577 roll: 0.003062131060665499 yaw: 0.0047254842424081026\n",
      "772016/772016 [==============================] - 296s 383us/sample - loss: 0.0472 - val_loss: 0.0099\n",
      "Epoch 2/5\n",
      "771840/772016 [============================>.] - ETA: 0s - loss: 0.0083 -mae distance: 6.106054185831458 pitch: 1.2865210744787092 roll: 0.005089936756770629 yaw: 0.0038665800360089234\n",
      "772016/772016 [==============================] - 294s 381us/sample - loss: 0.0083 - val_loss: 0.0060\n",
      "Epoch 3/5\n",
      "771840/772016 [============================>.] - ETA: 0s - loss: 0.0098 -mae distance: 8.239620312659975 pitch: 32.6600679215859 roll: 0.0065375042483997396 yaw: 0.0036013100538117905\n",
      "772016/772016 [==============================] - 296s 383us/sample - loss: 0.0098 - val_loss: 0.0514\n",
      "Epoch 4/5\n",
      "771840/772016 [============================>.] - ETA: 0s - loss: 0.0076 -mae distance: 4.551592168174623 pitch: 1.04875762325928 roll: 0.0034246433154241185 yaw: 0.0019519023647675588\n",
      "772016/772016 [==============================] - 292s 378us/sample - loss: 0.0076 - val_loss: 0.0043\n",
      "Epoch 5/5\n",
      "771840/772016 [============================>.] - ETA: 0s - loss: 0.0071 -mae distance: 7.480602766104644 pitch: 11.434650371242002 roll: 0.003412760697542448 yaw: 0.0024928944853067534\n",
      "772016/772016 [==============================] - 292s 378us/sample - loss: 0.0071 - val_loss: 0.0202\n"
     ]
    },
    {
     "data": {
      "image/png": "[encoded data removed]",
      "text/plain": [
       "<Figure size 432x288 with 1 Axes>"
      ]
     },
     "metadata": {
      "needs_background": "light"
     },
     "output_type": "display_data"
    },
    {
     "name": "stdout",
     "output_type": "stream",
     "text": [
      "mean distance: 7.480602766104644\n"
     ]
    },
    {
     "data": {
      "image/png": "[encoded data removed]",
      "text/plain": [
       "<Figure size 432x288 with 1 Axes>"
      ]
     },
     "metadata": {
      "needs_background": "light"
     },
     "output_type": "display_data"
    }
   ],
   "source": [
    "p = params.copy()\n",
    "p[\"batch_size\"] = 256\n",
    "\n",
    "input_shape = (p[\"seq_len\"], p[\"input_features\"])  # (batch), timestep, input_dim\n",
    "batch_input_shape = p[\"batch_size\"],p[\"seq_len\"],p[\"input_features\"]\n",
    "\n",
    "model = tf.keras.Sequential([\n",
    "    tf.keras.layers.InputLayer(batch_input_shape=batch_input_shape),\n",
    "    tf.keras.layers.GRU(256, return_sequences=False),\n",
    "    tf.keras.layers.Dense( p[\"outputs\"], activation = \"linear\")\n",
    "])\n",
    "\n",
    "model.compile(optimizer='adam', loss='mae')\n",
    "model.summary()\n",
    "\n",
    "cb = []\n",
    "cb.append(Metrics(model, p))\n",
    "\n",
    "history = model.fit(train_x, train_y, validation_data=(test_x,test_y), epochs=5, batch_size=p[\"batch_size\"], callbacks=cb)\n",
    "plotti()"
   ]
  },
  {
   "cell_type": "code",
   "execution_count": null,
   "metadata": {},
   "outputs": [],
   "source": []
  }
 ],
 "metadata": {
  "kernelspec": {
   "display_name": "Python 3",
   "language": "python",
   "name": "python3"
  },
  "language_info": {
   "codemirror_mode": {
    "name": "ipython",
    "version": 3
   },
   "file_extension": ".py",
   "mimetype": "text/x-python",
   "name": "python",
   "nbconvert_exporter": "python",
   "pygments_lexer": "ipython3",
   "version": "3.7.3"
  }
 },
 "nbformat": 4,
 "nbformat_minor": 2
}
